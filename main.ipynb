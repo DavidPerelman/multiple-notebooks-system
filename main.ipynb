{
 "cells": [
  {
   "cell_type": "code",
   "execution_count": null,
   "metadata": {},
   "outputs": [],
   "source": [
    "import os\n",
    "\n",
    "from modules.notebook_runner import run_notebooks_sequentially\n",
    "\n",
    "cwd = os.getcwd()\n",
    "\n",
    "notebooks = [\n",
    "    r'{}\\demo\\notebook1.ipynb'.format(cwd),\n",
    "    r'{}\\demo\\notebook2.ipynb'.format(cwd),\n",
    "]\n",
    "\n",
    "run_notebooks_sequentially(notebooks)"
   ]
  }
 ],
 "metadata": {
  "kernelspec": {
   "display_name": "create_forecast_v9.0.0",
   "language": "python",
   "name": "python3"
  },
  "language_info": {
   "codemirror_mode": {
    "name": "ipython",
    "version": 3
   },
   "file_extension": ".py",
   "mimetype": "text/x-python",
   "name": "python",
   "nbconvert_exporter": "python",
   "pygments_lexer": "ipython3",
   "version": "3.10.16"
  }
 },
 "nbformat": 4,
 "nbformat_minor": 2
}
