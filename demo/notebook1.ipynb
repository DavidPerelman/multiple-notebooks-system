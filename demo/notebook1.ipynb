{
 "cells": [
  {
   "cell_type": "code",
   "execution_count": null,
   "metadata": {},
   "outputs": [],
   "source": [
    "# Second Notebook: Import Required Libraries\n",
    "import logging\n",
    "import os\n",
    "import time\n",
    "\n",
    "cwd = os.getcwd()\n",
    "root = os.path.dirname(cwd)\n",
    "\n",
    "# print(dsd)  # This will cause an error\n",
    "\n",
    "# Second Notebook: Configure Logging\n",
    "log_file_path = r'{}\\logs\\notebook1_logfile.log'.format(root)\n",
    "logger = logging.getLogger('notebook1')\n",
    "logger.setLevel(logging.INFO)\n",
    "handler = logging.FileHandler(log_file_path)\n",
    "handler.setFormatter(logging.Formatter('%(asctime)s - %(levelname)s - %(message)s'))\n",
    "logger.addHandler(handler)\n",
    "\n",
    "# Second Notebook: Print Logs\n",
    "for i in range(10):\n",
    "    logger.info(f\"Notebook 1 - Log message {i}\")\n",
    "    time.sleep(1)\n",
    "\n",
    "handler.flush()\n",
    "handler.close()\n",
    "logger.removeHandler(handler)"
   ]
  }
 ],
 "metadata": {
  "kernelspec": {
   "display_name": "create_forecast_v9.0.0",
   "language": "python",
   "name": "python3"
  },
  "language_info": {
   "name": "python",
   "version": "3.10.16"
  }
 },
 "nbformat": 4,
 "nbformat_minor": 2
}
