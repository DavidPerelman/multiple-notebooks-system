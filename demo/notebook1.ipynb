{
 "cells": [
  {
   "cell_type": "code",
   "execution_count": 1,
   "metadata": {},
   "outputs": [],
   "source": [
    "# # Second Notebook: Import Required Libraries\n",
    "# import logging\n",
    "# import os\n",
    "# import time\n",
    "\n",
    "# cwd = os.getcwd()\n",
    "# root = os.path.dirname(cwd)\n",
    "\n",
    "# # Second Notebook: Configure Logging\n",
    "# log_file_path = r'{}\\logs\\notebook1_logfile.log'.format(root)\n",
    "# logger = logging.getLogger('notebook1')\n",
    "# logger.setLevel(logging.INFO)\n",
    "# handler = logging.FileHandler(log_file_path)\n",
    "# handler.setFormatter(logging.Formatter('%(asctime)s - %(levelname)s - %(message)s'))\n",
    "# logger.addHandler(handler)\n",
    "\n",
    "# # Second Notebook: Print Logs\n",
    "# for i in range(10):\n",
    "#     logger.info(f\"Notebook 1 - Log message {i}\")\n",
    "#     time.sleep(1)\n",
    "\n",
    "# handler.flush()\n",
    "# handler.close()\n",
    "# logger.removeHandler(handler)"
   ]
  },
  {
   "cell_type": "code",
   "execution_count": 2,
   "metadata": {},
   "outputs": [],
   "source": [
    "import sys\n",
    "import os\n",
    "\n",
    "cwd = os.getcwd()\n",
    "root = os.path.dirname(cwd)\n",
    "sys.path.append(\"../modules\")  # הוספת התיקייה לרשימת הנתיבים\n",
    "\n",
    "from logger_utils import setup_logger\n",
    "import time\n",
    "\n",
    "log_file_path = r'{}\\logs\\notebook1_logfile.log'.format(root)\n",
    "logger = setup_logger(log_file_path, \"notebook1\")\n",
    "\n",
    "for i in range(10):\n",
    "    logger.info(f\"Notebook 1 - Log message {i}\")\n",
    "    time.sleep(1)\n"
   ]
  }
 ],
 "metadata": {
  "kernelspec": {
   "display_name": "create_forecast_v9.0.0",
   "language": "python",
   "name": "python3"
  },
  "language_info": {
   "codemirror_mode": {
    "name": "ipython",
    "version": 3
   },
   "file_extension": ".py",
   "mimetype": "text/x-python",
   "name": "python",
   "nbconvert_exporter": "python",
   "pygments_lexer": "ipython3",
   "version": "3.10.16"
  }
 },
 "nbformat": 4,
 "nbformat_minor": 2
}
