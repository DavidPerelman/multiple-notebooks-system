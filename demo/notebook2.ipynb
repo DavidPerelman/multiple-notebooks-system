{
 "cells": [
  {
   "cell_type": "code",
   "execution_count": null,
   "metadata": {},
   "outputs": [],
   "source": [
    "# Third Notebook: Import Required Libraries\n",
    "import logging\n",
    "import os\n",
    "import time\n",
    "\n",
    "cwd = os.getcwd()\n",
    "root = os.path.dirname(cwd)\n",
    "\n",
    "# Third Notebook: Configure Logging\n",
    "log_file_path = r'{}\\logs\\notebook2_logfile.log'.format(root)\n",
    "logger = logging.getLogger('notebook2')\n",
    "logger.setLevel(logging.INFO)\n",
    "handler = logging.FileHandler(log_file_path)\n",
    "handler.setFormatter(logging.Formatter('%(asctime)s - %(levelname)s - %(message)s'))\n",
    "logger.addHandler(handler)\n",
    "\n",
    "# Third Notebook: Print Logs\n",
    "for i in range(10):\n",
    "    logger.info(f\"Notebook 2 - Log message {i}\")\n",
    "    time.sleep(1)\n",
    "\n",
    "handler.flush()\n",
    "handler.close()\n",
    "logger.removeHandler(handler)"
   ]
  }
 ],
 "metadata": {
  "kernelspec": {
   "display_name": "create_forecast_v9.0.0",
   "language": "python",
   "name": "python3"
  },
  "language_info": {
   "name": "python",
   "version": "3.10.16"
  }
 },
 "nbformat": 4,
 "nbformat_minor": 2
}
