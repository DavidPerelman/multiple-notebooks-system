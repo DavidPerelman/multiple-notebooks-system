{
 "cells": [
  {
   "cell_type": "code",
   "execution_count": null,
   "metadata": {},
   "outputs": [],
   "source": [
    "import sys\n",
    "import os\n",
    "\n",
    "cwd = os.getcwd()\n",
    "root = os.path.dirname(cwd)\n",
    "sys.path.append(\"../modules\")  # הוספת התיקייה לרשימת הנתיבים\n",
    "\n",
    "from logger_utils import setup_logger\n",
    "import time\n",
    "\n",
    "log_file_path = r'{}\\logs\\notebook2_logfile.log'.format(root)\n",
    "logger = setup_logger(log_file_path, \"notebook2\")\n",
    "\n",
    "for i in range(10):\n",
    "    logger.info(f\"Notebook 1 - Log message {i}\")\n",
    "    time.sleep(1)\n"
   ]
  }
 ],
 "metadata": {
  "kernelspec": {
   "display_name": "create_forecast_v9.0.0",
   "language": "python",
   "name": "python3"
  },
  "language_info": {
   "name": "python",
   "version": "3.10.16"
  }
 },
 "nbformat": 4,
 "nbformat_minor": 2
}
